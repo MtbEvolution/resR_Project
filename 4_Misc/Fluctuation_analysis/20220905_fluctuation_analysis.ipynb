{
 "cells": [
  {
   "cell_type": "code",
   "execution_count": 183,
   "id": "8a384e67-42b3-4f0f-b745-1ce23de8bced",
   "metadata": {},
   "outputs": [],
   "source": [
    "import pandas as pd\n",
    "import numpy as np\n",
    "from matplotlib import pyplot as plt,cm\n",
    "from scipy.stats import mannwhitneyu as mwu"
   ]
  },
  {
   "cell_type": "code",
   "execution_count": 167,
   "id": "fcf2cd9a-2234-4dfc-bfd7-1995380220f7",
   "metadata": {},
   "outputs": [],
   "source": [
    "data = pd.read_excel('Final_FE_data.xlsx',sheet_name='Sheet1')"
   ]
  },
  {
   "cell_type": "markdown",
   "id": "b4cd799a-833f-4d46-bc56-64c823ed0667",
   "metadata": {},
   "source": [
    "# Method adopted from Rosche and Foster, Methods, 2000"
   ]
  },
  {
   "cell_type": "code",
   "execution_count": 206,
   "id": "0d106ee7-69e3-430b-b75d-6d3012e8a339",
   "metadata": {},
   "outputs": [],
   "source": [
    "def generate_mms_reftable(m_min=0.1,m_max=15,N=1000,R=200):\n",
    "    M_list = np.linspace(m_min,m_max,N)\n",
    "    m_matrix = []\n",
    "    for m in M_list:\n",
    "        p0 = np.e**(-m)\n",
    "        pr_list = [p0]\n",
    "        for r in range(1,R):\n",
    "            pr_list.append((m/r)*np.sum(np.array([pr_list[i]/(r-i+1) for i in range(0,r)])))\n",
    "        m_matrix.append(pr_list)\n",
    "    return np.array(M_list),np.array(m_matrix)\n",
    "\n",
    "def mms_CI(m,n):\n",
    "    sigma = 1.225*(m**-0.315)/np.sqrt(n)\n",
    "    c1 = np.log(m)+1.96*sigma*((np.e**(1.96*sigma))**-0.315)\n",
    "    c2 = np.log(m)-1.96*sigma*((np.e**(1.96*sigma))**0.315)\n",
    "    return np.e**(c1),np.e**(c2)\n",
    "\n",
    "def mms_ln_prob(cfus,M,m_matrix):\n",
    "    cfus = np.array(cfus)\n",
    "    cfus[cfus>=150]=150\n",
    "    m = M[np.argmax(np.log(m_matrix)[:,np.array(cfus)].sum(axis=1))]\n",
    "    c1,c2 = mms_CI(m,len(cfus))\n",
    "    return m,c1,c2"
   ]
  },
  {
   "cell_type": "markdown",
   "id": "2348670b-baf4-4a4e-a0be-47eae6c88a3f",
   "metadata": {},
   "source": [
    "#### Set MMS reference table:"
   ]
  },
  {
   "cell_type": "code",
   "execution_count": 175,
   "id": "c3ffc73f-6144-48f4-b0a6-92243a8e8009",
   "metadata": {},
   "outputs": [],
   "source": [
    "M,m_matrix = generate_mms_reftable()"
   ]
  },
  {
   "cell_type": "code",
   "execution_count": 211,
   "id": "134d4961-8288-4dd3-96ae-42d7c717c85e",
   "metadata": {},
   "outputs": [
    {
     "data": {
      "text/plain": [
       "(1e-09, 1e-07)"
      ]
     },
     "execution_count": 211,
     "metadata": {},
     "output_type": "execute_result"
    },
    {
     "data": {
      "image/png": "[encoded data removed]",
      "text/plain": [
       "<Figure size 432x288 with 1 Axes>"
      ]
     },
     "metadata": {
      "needs_background": "light"
     },
     "output_type": "display_data"
    }
   ],
   "source": [
    "strains = data['Strain'].unique()\n",
    "mut_stats = []\n",
    "for i in range(len(mutation_rates)):\n",
    "    cfus = data[data['Strain']==strains[i]]['CFU']\n",
    "    nt = data[data['Strain']==strains[i]]['Nt'].unique()[0]\n",
    "    m,c1,c2 = mms_ln_prob(cfus,M,m_matrix)\n",
    "    plt.scatter([i]*len(cfus), data[data['Strain']==strains[i]]['Frequency'],alpha=0.5,s=50,\n",
    "                fc='lightgrey',ec='black')\n",
    "    plt.hlines(y=[c1/nt,c2/nt],xmin=i-0.13,xmax=i+0.13,color='black')\n",
    "    plt.hlines(y=[m/nt],xmin=i-0.23,xmax=i+0.23,color='b',lw=5)\n",
    "    plt.vlines(x=i,ymin=c1/nt,ymax=c2/nt,color='black',lw=1)\n",
    "    mut_stats.append([strains[i],nt,np.median(cfus),m/nt,c1/nt,c2/nt])\n",
    "plt.xticks(np.arange(len(strains)),strains,rotation = 45,ha='right',va='top')\n",
    "plt.yscale('log')\n",
    "plt.ylim(1e-9,1e-7)"
   ]
  },
  {
   "cell_type": "code",
   "execution_count": 212,
   "id": "6cddd36f-3e08-432e-b143-e128f94f1cf5",
   "metadata": {},
   "outputs": [],
   "source": [
    "mut_stats = pd.DataFrame(mut_stats,columns=['Strain',\n",
    "                                            'Nt (input CFU)',\n",
    "                                            'median CFU per plate',\n",
    "                                            'μ (estimated mutation rate)',\n",
    "                                            '95% CI+ of μ',\n",
    "                                            '95% CI- of μ'])"
   ]
  },
  {
   "cell_type": "code",
   "execution_count": 213,
   "id": "1d1907e6-b613-431d-af0d-3a26924f5840",
   "metadata": {},
   "outputs": [],
   "source": [
    "mut_stats.to_excel('/Users/jz-rolling/Desktop/OMEGA_GUI/notebooks/QY_Rv1830/Fluctuation_analysis/fluctuation_output.xlsx')"
   ]
  },
  {
   "cell_type": "code",
   "execution_count": null,
   "id": "86b30fda-f814-48b8-a86d-2df98f8689df",
   "metadata": {},
   "outputs": [],
   "source": []
  }
 ],
 "metadata": {
  "kernelspec": {
   "display_name": "Python 3",
   "language": "python",
   "name": "python3"
  },
  "language_info": {
   "codemirror_mode": {
    "name": "ipython",
    "version": 3
   },
   "file_extension": ".py",
   "mimetype": "text/x-python",
   "name": "python",
   "nbconvert_exporter": "python",
   "pygments_lexer": "ipython3",
   "version": "3.7.4"
  }
 },
 "nbformat": 4,
 "nbformat_minor": 5
}
