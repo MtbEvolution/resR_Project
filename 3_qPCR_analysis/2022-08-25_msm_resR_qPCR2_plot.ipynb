{
 "cells": [
  {
   "cell_type": "code",
   "execution_count": 59,
   "id": "f1fed0ca-5e93-48ba-9e9f-6367d1691660",
   "metadata": {},
   "outputs": [],
   "source": [
    "import pandas as pd\n",
    "import seaborn as sns\n",
    "import numpy as np\n",
    "import matplotlib.pyplot as plt\n",
    "from matplotlib.gridspec import GridSpec as gs\n",
    "from scipy.stats import ttest_ind"
   ]
  },
  {
   "cell_type": "markdown",
   "id": "8970aa41-0894-4a6e-ad35-8ca76a07768f",
   "metadata": {},
   "source": [
    "#### Load data"
   ]
  },
  {
   "cell_type": "code",
   "execution_count": 6,
   "id": "2dd9c63d-0f4e-4921-9433-29fb6f876129",
   "metadata": {},
   "outputs": [],
   "source": [
    "data = pd.read_excel('2022-08-24-msm-resR2-ref.xlsx',sheet_name='Results')"
   ]
  },
  {
   "cell_type": "markdown",
   "id": "6069041b-19f3-4041-a2d0-fa96b79a2d9d",
   "metadata": {},
   "source": [
    "#### Calculate delta Ct"
   ]
  },
  {
   "cell_type": "code",
   "execution_count": 8,
   "id": "e2b633df-3ff8-4b66-b995-48cdd5b46b0d",
   "metadata": {},
   "outputs": [],
   "source": [
    "delta_ct=np.zeros(len(data))\n",
    "for s in data['Sample_id'].unique():\n",
    "    ctrl = data[(data['Target']=='MSMEG_2758')&(data['Sample_id']==s)]['CT'].mean()\n",
    "    delta_ct[data['Sample_id']==s] = data[data['Sample_id']==s]['CT'].values-ctrl\n",
    "data['d_Ct'] = delta_ct"
   ]
  },
  {
   "cell_type": "markdown",
   "id": "8b1fb87c-a991-46e9-9ee3-8ad8340c016e",
   "metadata": {},
   "source": [
    "#### Calculate delta-delta Ct and log2FC for selected bioreps"
   ]
  },
  {
   "cell_type": "code",
   "execution_count": 50,
   "id": "068cc7c5-705a-4f1e-a540-29d1bad62450",
   "metadata": {},
   "outputs": [],
   "source": [
    "selected_samples = [17,19,21,22,27,28,29,30]\n",
    "subset=[]\n",
    "for s in data['Sample_id'].unique():\n",
    "    if s in selected_samples:\n",
    "        sample_d = data[data['Sample_id']==s].copy()\n",
    "        for target in sample_d['Target'].unique():\n",
    "            target_data = sample_d[sample_d['Target']==target].copy().reset_index(drop=True)\n",
    "            median = np.median(target_data['d_Ct'])\n",
    "            dCt2median = np.abs(target_data['d_Ct'].values-median)\n",
    "            retained = np.where(dCt2median<0.25)[0]\n",
    "            outlier_removed = target_data.iloc[retained].copy()\n",
    "            subset.append(outlier_removed)        \n",
    "subset = pd.concat(subset)\n",
    "\n",
    "dd_Ct = []\n",
    "for target in subset['Target'].unique():\n",
    "    target_data = subset[subset['Target']==target].copy().reset_index(drop=True)\n",
    "    ctrl = target_data[target_data['Sample_id']==17]['d_Ct'].median()\n",
    "    target_data['dd_Ct'] = target_data['d_Ct']-ctrl\n",
    "    target_data['Normalized expression'] = 2**(-target_data['dd_Ct'].values)\n",
    "    target_data['Log2(fold change)'] = -target_data['dd_Ct'].values\n",
    "    dd_Ct.append(target_data)\n",
    "final = pd.concat(dd_Ct)"
   ]
  },
  {
   "cell_type": "markdown",
   "id": "79903ad9-ad80-4a9d-9529-4fc101de9e03",
   "metadata": {},
   "source": [
    "#### Export data (QL to plot)"
   ]
  },
  {
   "cell_type": "code",
   "execution_count": 87,
   "id": "f3814d1f-986c-439a-a590-d02f71008d14",
   "metadata": {},
   "outputs": [],
   "source": [
    "final.to_excel('2022-08-24-msm-resR2-filtered.xlsx')"
   ]
  }
 ],
 "metadata": {
  "kernelspec": {
   "display_name": "Python 3",
   "language": "python",
   "name": "python3"
  },
  "language_info": {
   "codemirror_mode": {
    "name": "ipython",
    "version": 3
   },
   "file_extension": ".py",
   "mimetype": "text/x-python",
   "name": "python",
   "nbconvert_exporter": "python",
   "pygments_lexer": "ipython3",
   "version": "3.7.4"
  }
 },
 "nbformat": 4,
 "nbformat_minor": 5
}
