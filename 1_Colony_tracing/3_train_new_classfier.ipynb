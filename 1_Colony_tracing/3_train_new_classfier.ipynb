{
 "cells": [
  {
   "cell_type": "code",
   "execution_count": null,
   "id": "32848fc3-4f56-4ed1-9e42-6c091dcf40cd",
   "metadata": {
    "tags": []
   },
   "outputs": [],
   "source": [
    "import momia2 as mo\n",
    "from skimage import measure, feature, filters, transform, morphology\n",
    "import numpy as np\n",
    "import pandas as pd\n",
    "import read_roi as rr\n",
    "import matplotlib.pyplot as plt\n",
    "import glob,os\n",
    "import pickle as pk"
   ]
  },
  {
   "cell_type": "code",
   "execution_count": 83,
   "id": "75600a58-4e28-491a-b3ad-f093c9a14fdc",
   "metadata": {},
   "outputs": [],
   "source": [
    "from scipy import ndimage as ndi\n",
    "from skimage.filters import gabor_kernel\n",
    "def prepare_gabor_kernels(n_theta=4,sigmas=[2.8],frequencies=[0.23]):\n",
    "    kernels = []\n",
    "    for theta in range(n_theta):\n",
    "        theta = (theta / n_theta) * np.pi\n",
    "        for sigma in sigmas:\n",
    "            for frequency in frequencies:\n",
    "                kernel = np.real(gabor_kernel(frequency, theta=theta,\n",
    "                                              sigma_x=sigma, sigma_y=sigma))\n",
    "                kernels.append(kernel)\n",
    "    return kernels\n",
    "\n",
    "\n",
    "def min_max(data):\n",
    "    return (data-data.min())/(data.max()-data.min())\n",
    "\n",
    "def power(image, kernel):\n",
    "    # Normalize images for better comparison.\n",
    "    image = (image - image.mean()) / image.std()\n",
    "    power_image = np.sqrt(ndi.convolve(image, np.real(kernel), mode='wrap')**2 +\n",
    "                          ndi.convolve(image, np.imag(kernel), mode='wrap')**2)\n",
    "    convolved = filters.gaussian(power_image/np.median(power_image),sigma=0.8)\n",
    "    return convolved"
   ]
  },
  {
   "cell_type": "markdown",
   "id": "3df395c4-50ce-4812-9210-588805646eec",
   "metadata": {},
   "source": [
    "## Convert training set pixels to tabular features "
   ]
  },
  {
   "cell_type": "code",
   "execution_count": 90,
   "id": "70ccda0c-45a7-4583-b1dd-a9e07de8e750",
   "metadata": {},
   "outputs": [],
   "source": [
    "# train RFC model\n",
    "training_set_folder = '/Users/jz-rolling/Desktop/Size_calculation/20220118/New_trainingset_20220120/'\n",
    "gabor_kernels = prepare_gabor_kernels()\n",
    "all_training_data = []\n",
    "for seed_file in sorted(glob.glob(training_set_folder+'*_seed.tif')):\n",
    "    header = seed_file.split('/')[-1].split('_')[0]\n",
    "    target_file = training_set_folder+'{}.tif'.format(header)\n",
    "    seed = (plt.imread(seed_file)>0)*1\n",
    "    target = plt.imread(target_file).astype(int)\n",
    "    target = mo.utils.dual_bandpass(target,\n",
    "                                    pixel_microns=1,\n",
    "                                    min_structure_scale=2,\n",
    "                                    max_structure_scale=500)\n",
    "    dilated = (morphology.binary_dilation(seed,morphology.disk(1))>0)*1\n",
    "    edge = (dilated-seed)\n",
    "    bg = (seed==0)*1\n",
    "    x1,y1 = np.where(seed>0)\n",
    "    x2,y2 = np.where(edge>0)\n",
    "    x3,y3 = np.where(bg>0)\n",
    "    x = np.hstack([x1,x2,x3])\n",
    "    y = np.hstack([y1,x2,y3])\n",
    "    labeled=np.zeros(target.shape)\n",
    "    labeled[x2,y2]=2\n",
    "    labeled[x1,y1]=1\n",
    "    img_features = mo.metrics.image_feature.multiscale_image_feature(target,sigmas=(1,2.5,5),\n",
    "                                                                     shapeindex=True,\n",
    "                                                                     rog=True)[1]\n",
    "    pixel_stats = mo.metrics.image_feature.local_stat(img_features,x,y)\n",
    "    for i,g in enumerate(gabor_kernels):\n",
    "        filtered = power(target, g)\n",
    "        pixel_stats['Gabor_{}'.format(i)] = filtered[x,y]\n",
    "    pixel_stats['annotation'] = labeled[x,y]\n",
    "    all_training_data.append(pixel_stats)\n",
    "all_training_data = pd.concat(all_training_data)"
   ]
  },
  {
   "cell_type": "markdown",
   "id": "0e26629d-c705-40ae-9a5e-33f80079b9c4",
   "metadata": {},
   "source": [
    "## Train new colony patch classifier using momia2"
   ]
  },
  {
   "cell_type": "code",
   "execution_count": 91,
   "id": "80b0b9cb-d0f8-484f-9d16-c43eb0951798",
   "metadata": {},
   "outputs": [
    {
     "name": "stdout",
     "output_type": "stream",
     "text": [
      "Classification score using RandomForest model is 0.9246694048979339\n"
     ]
    }
   ],
   "source": [
    "model = mo.classify.GenericClassifier(criterion='entropy',\n",
    "                                      class_weight='balanced',\n",
    "                                      n_estimators=100, \n",
    "                                      max_features=22,\n",
    "                                      n_jobs=-1)\n",
    "model.features = all_training_data.columns[:-1]\n",
    "model.train(all_training_data,test_size=0.4)\n",
    "mo.classify.classifier.save_model(model,'/Users/jz-rolling/Desktop/Size_calculation/20220118/New_trainingset_20220120/model_20220120.pk')"
   ]
  }
 ],
 "metadata": {
  "kernelspec": {
   "display_name": "Python 3",
   "language": "python",
   "name": "python3"
  },
  "language_info": {
   "codemirror_mode": {
    "name": "ipython",
    "version": 3
   },
   "file_extension": ".py",
   "mimetype": "text/x-python",
   "name": "python",
   "nbconvert_exporter": "python",
   "pygments_lexer": "ipython3",
   "version": "3.7.4"
  }
 },
 "nbformat": 4,
 "nbformat_minor": 5
}
