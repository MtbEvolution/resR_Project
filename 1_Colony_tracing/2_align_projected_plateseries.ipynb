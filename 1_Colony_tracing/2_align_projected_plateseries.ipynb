{
 "cells": [
  {
   "cell_type": "code",
   "execution_count": 1,
   "id": "9ebeeb71-33ca-461e-b52e-919ded2c60a1",
   "metadata": {},
   "outputs": [
    {
     "name": "stdout",
     "output_type": "stream",
     "text": [
      "/Users/jz-rolling/Desktop/OMEGA_GUI/notebooks\n"
     ]
    }
   ],
   "source": [
    "cd /Users/jz-rolling/Desktop/OMEGA_GUI/notebooks/"
   ]
  },
  {
   "cell_type": "code",
   "execution_count": 36,
   "id": "403aed87-0c48-42a6-9b6f-abd7bbbc06de",
   "metadata": {},
   "outputs": [],
   "source": [
    "import momia2 as mo\n",
    "from skimage import measure, feature, filters, transform, morphology\n",
    "import numpy as np\n",
    "import pandas as pd\n",
    "import read_roi as rr\n",
    "import matplotlib.pyplot as plt\n",
    "import glob\n",
    "import pickle as pk\n",
    "import os \n",
    "import tifffile"
   ]
  },
  {
   "cell_type": "code",
   "execution_count": 48,
   "id": "36748867-3980-4013-8d5b-9dd6bcfc8fe4",
   "metadata": {},
   "outputs": [],
   "source": [
    "src = '/Users/jz-rolling/Desktop/Size_calculation/20220118/'"
   ]
  },
  {
   "cell_type": "code",
   "execution_count": 49,
   "id": "d14010db-74c2-40e0-b365-54c759e2d5d4",
   "metadata": {},
   "outputs": [],
   "source": [
    "for i in range(8):\n",
    "    days = []\n",
    "    dates = []\n",
    "    images = []\n",
    "    for f in glob.glob(src+'Projection_redo_20220119/Plate-{}*.tif'.format(i)):\n",
    "        plate,date,day = f.split('/')[-1].split('.tif')[0].split('_')\n",
    "        img = plt.imread(f)\n",
    "        days.append(int(day))\n",
    "        dates.append(date)\n",
    "        images.append(img)\n",
    "    images = np.array(images)\n",
    "    days = np.array(days)\n",
    "    dates = np.array(dates)\n",
    "    days_sorted_arg = np.argsort(days)\n",
    "    images = images[days_sorted_arg]\n",
    "    days = days[days_sorted_arg]\n",
    "    dates = dates[days_sorted_arg]\n",
    "    corrected,_w = correct_tl(images)\n",
    "    plate_folder = src+'Alignment_20220120/{}/'.format(plate)\n",
    "    if not os.path.isdir(plate_folder):\n",
    "        os.mkdir(plate_folder)\n",
    "    for j,img in enumerate(corrected):\n",
    "        img_name = plate_folder+'{}_{}.tif'.format(days[j],dates[j])\n",
    "        tifffile.imsave(img_name,\n",
    "                        (min_max(img)*255).astype(np.uint8),imagej=True)"
   ]
  },
  {
   "cell_type": "code",
   "execution_count": 35,
   "id": "18c1a61f-1ba8-4a62-a5ad-18b7aa1f2370",
   "metadata": {},
   "outputs": [],
   "source": [
    "def min_max(data):\n",
    "    return (data-data.min())/(data.max()-data.min())\n",
    "\n",
    "def xydrift_correction(target_img, shift, max_drift=25):\n",
    "    if max(np.abs(shift)) <= max_drift:\n",
    "        return shift_image(target_img, np.array(shift))\n",
    "    else:\n",
    "        return target_img\n",
    "    \n",
    "def get_xydrift(ref_img, target_img):\n",
    "    from skimage import registration\n",
    "    shift, error, _diff = registration.phase_cross_correlation(ref_img, target_img, upsample_factor=10)\n",
    "    return shift\n",
    "\n",
    "def shift_image(img, shift):\n",
    "    from scipy import ndimage as ndi\n",
    "    \"\"\"\n",
    "    correct xy drift between phase contrast image and fluorescent image(s)\n",
    "    :param img: input image\n",
    "    :param shift: subpixel xy drift\n",
    "    :return: drift corrected image\n",
    "    \"\"\"\n",
    "    offset_image = ndi.fourier_shift(np.fft.fftn(img), shift)\n",
    "    offset_image = np.fft.ifftn(offset_image)\n",
    "    offset_image = np.round(offset_image.real)\n",
    "    return offset_image\n",
    "\n",
    "\n",
    "def correct_tl(pos_data,max_drift=100):\n",
    "    is_weird = [0]\n",
    "    last_drift = np.array([0,0])\n",
    "    output_data = []\n",
    "    for t in range(len(pos_data)):\n",
    "        if t == 0:\n",
    "            output_data.append(pos_data[t])\n",
    "        else:\n",
    "            shift = get_xydrift(pos_data[t-1],pos_data[t])\n",
    "            if np.abs(shift).max()>max_drift:\n",
    "                is_weird.append(1)\n",
    "            else:\n",
    "                is_weird.append(0)\n",
    "            last_drift = last_drift + shift\n",
    "            output_data.append(xydrift_correction(pos_data[t],last_drift,max_drift=max_drift))\n",
    "    output_data = np.array(output_data)\n",
    "    return output_data, is_weird"
   ]
  },
  {
   "cell_type": "code",
   "execution_count": null,
   "id": "8c512d45-8e3e-477a-aeb5-b1ae933dbe62",
   "metadata": {},
   "outputs": [],
   "source": []
  }
 ],
 "metadata": {
  "kernelspec": {
   "display_name": "Python 3",
   "language": "python",
   "name": "python3"
  },
  "language_info": {
   "codemirror_mode": {
    "name": "ipython",
    "version": 3
   },
   "file_extension": ".py",
   "mimetype": "text/x-python",
   "name": "python",
   "nbconvert_exporter": "python",
   "pygments_lexer": "ipython3",
   "version": "3.7.4"
  }
 },
 "nbformat": 4,
 "nbformat_minor": 5
}
