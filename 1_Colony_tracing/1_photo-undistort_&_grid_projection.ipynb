{
 "cells": [
  {
   "cell_type": "code",
   "execution_count": 1,
   "id": "aa1f7554-1a67-4393-bf6a-f7ffefda84d0",
   "metadata": {},
   "outputs": [
    {
     "name": "stdout",
     "output_type": "stream",
     "text": [
      "/Users/jz-rolling/Desktop/OMEGA_GUI/notebooks/QY_Rv1830/Github_deposit\n"
     ]
    }
   ],
   "source": [
    "cd /Users/jz-rolling/Desktop/OMEGA_GUI/notebooks/QY_Rv1830/Github_deposit/"
   ]
  },
  {
   "cell_type": "code",
   "execution_count": 2,
   "id": "985fbe48-12db-46b1-b47b-c9040fdfb543",
   "metadata": {},
   "outputs": [],
   "source": [
    "import momia2 as mo\n",
    "from skimage import transform, filters, feature, measure, registration, io, color, morphology, restoration\n",
    "import numpy as np\n",
    "import pandas as pd\n",
    "import read_roi as rr\n",
    "import matplotlib.pyplot as plt\n",
    "import glob,os\n",
    "import pickle as pk\n",
    "import tifffile\n",
    "import cv2\n",
    "from cv2_rolling_ball import subtract_background_rolling_ball\n",
    "from colony_tracker import *"
   ]
  },
  {
   "cell_type": "code",
   "execution_count": 3,
   "id": "be124930-6ffe-4d1c-8ff7-1a09ed833fee",
   "metadata": {},
   "outputs": [
    {
     "name": "stdout",
     "output_type": "stream",
     "text": [
      "/Users/jz-rolling/Desktop/OMEGA_GUI/notebooks/QY_Rv1830/Github_deposit/1_Colony_tracing\n"
     ]
    }
   ],
   "source": [
    "cd /Users/jz-rolling/Desktop/OMEGA_GUI/notebooks/QY_Rv1830/Github_deposit/1_Colony_tracing/"
   ]
  },
  {
   "cell_type": "code",
   "execution_count": 4,
   "id": "87d4312d-c5f0-494c-92f7-936bb0ca521d",
   "metadata": {
    "tags": []
   },
   "outputs": [],
   "source": [
    "# load reference points \n",
    "ref_x = np.array([2,3,4,5,6,7,8])\n",
    "ref_y = np.array([2,3,4,5,6,7,8])\n",
    "ref_xy = np.meshgrid(ref_x,ref_y)\n",
    "ref_points = np.load('ref_grid_coords.npy')[ref_xy[1],ref_xy[0],:].reshape(49,2)"
   ]
  },
  {
   "cell_type": "code",
   "execution_count": 4,
   "id": "8521866d-f45f-40ee-b622-531540e09be1",
   "metadata": {},
   "outputs": [],
   "source": [
    "# define output path\n",
    "dst = '/Users/jz-rolling/Desktop/Size_calculation/20220118/Projection_redo_20220119/'"
   ]
  },
  {
   "cell_type": "code",
   "execution_count": 9,
   "id": "467e2c17-becf-4040-9576-e5d5413521ee",
   "metadata": {},
   "outputs": [],
   "source": [
    "# process plate 0\n",
    "for f in sorted(glob.glob('/Users/jz-rolling/Desktop/Size_calculation/revised/NoDrug/*/')):\n",
    "    date = f.split('/')[-2]\n",
    "    for z in sorted(glob.glob(f+'*.zip')):\n",
    "        img_header = z.split('/')[-1].split('_')[0]\n",
    "        try:\n",
    "            img_file = '{}{}.jpeg'.format(f,img_header)\n",
    "            img = color.rgb2gray(plt.imread(img_file))\n",
    "        except:\n",
    "            img_file = '{}{}.jpg'.format(f,img_header)\n",
    "            img = color.rgb2gray(plt.imread(img_file))\n",
    "        filtered = mo.utils.bandpass.dual_bandpass(img,pixel_microns=1,\n",
    "                                                   min_structure_scale=5,\n",
    "                                                   max_structure_scale=1000)\n",
    "        points = rr.read_roi_zip(z)\n",
    "        sorted_coords = sort_gridpoints(points)\n",
    "        projection(filtered,sorted_coords,\n",
    "                   ref_points,output_name=dst+'Plate-0_Date-{}.tif'.format(date),\n",
    "                   save=True,plot=False)"
   ]
  },
  {
   "cell_type": "code",
   "execution_count": 10,
   "id": "d19a4629-0a41-485d-876c-8d39e06d3be2",
   "metadata": {},
   "outputs": [],
   "source": [
    "# process plate 1-4\n",
    "for f in sorted(glob.glob('/Users/jz-rolling/Desktop/Size_calculation/Combo_Day1_Plating/*/')):\n",
    "    date = f.split('/')[-2]\n",
    "    for z in sorted(glob.glob(f+'*.zip')):\n",
    "        img_header = z.split('/')[-1].split('_')[0]\n",
    "        try:\n",
    "            img_file = '{}{}.jpeg'.format(f,img_header)\n",
    "            img = color.rgb2gray(plt.imread(img_file))\n",
    "        except:\n",
    "            img_file = '{}{}.jpg'.format(f,img_header)\n",
    "            img = color.rgb2gray(plt.imread(img_file))\n",
    "        filtered = mo.utils.bandpass.dual_bandpass(img,pixel_microns=1,\n",
    "                                                   min_structure_scale=5,\n",
    "                                                   max_structure_scale=1000)\n",
    "        points = rr.read_roi_zip(z)\n",
    "        sorted_coords = sort_gridpoints(points)\n",
    "        projection(filtered,sorted_coords,ref_points,output_name=dst+'Plate-{}_Date-{}.tif'.format(int(img_header)+4,date),\n",
    "                   save=True,plot=False)"
   ]
  },
  {
   "cell_type": "code",
   "execution_count": 11,
   "id": "81988ee3-4d34-4685-a520-0816d1786cb8",
   "metadata": {},
   "outputs": [],
   "source": [
    "# process plate 1-4\n",
    "for f in sorted(glob.glob('/Users/jz-rolling/Desktop/Size_calculation/revised/Drug/*/')):\n",
    "    date = f.split('/')[-2]\n",
    "    for z in sorted(glob.glob(f+'*.zip')):\n",
    "        img_header = z.split('/')[-1].split('_')[0]\n",
    "        try:\n",
    "            img_file = '{}{}.jpeg'.format(f,img_header)\n",
    "            img = color.rgb2gray(plt.imread(img_file))\n",
    "        except:\n",
    "            img_file = '{}{}.jpg'.format(f,img_header)\n",
    "            img = color.rgb2gray(plt.imread(img_file))\n",
    "        filtered = mo.utils.bandpass.dual_bandpass(img,pixel_microns=1,\n",
    "                                                   min_structure_scale=5,\n",
    "                                                   max_structure_scale=1000)\n",
    "        points = rr.read_roi_zip(z)\n",
    "        sorted_coords = sort_gridpoints(points)\n",
    "        projection(filtered,sorted_coords,ref_points,output_name=dst+'Plate-{}_Date-{}.tif'.format(img_header,date),\n",
    "                   save=True,plot=False)"
   ]
  },
  {
   "cell_type": "code",
   "execution_count": 12,
   "id": "86682c8c-b0f5-4ed5-a246-974794f9b584",
   "metadata": {},
   "outputs": [],
   "source": [
    "# convert to relative dates\n",
    "start_dates = {0:1209,\n",
    "               1:1202,\n",
    "               2:1202,\n",
    "               3:1202,\n",
    "               4:1202,\n",
    "               5:1203,\n",
    "               6:1203,\n",
    "               7:1203}\n",
    "for f in sorted(glob.glob(dst+'*.tif')):\n",
    "    plate,date = f.split('/')[-1].split('.tif')[0].split('_')\n",
    "    starte_d = str(start_dates[int(plate[-1])])\n",
    "    _d,month,day = date.split('-')\n",
    "    dmonth = int(month)%int(starte_d[:2])\n",
    "    dday = int(day)+31*dmonth-int(starte_d[2:])\n",
    "    newname = '{}_{}_{}'.format(plate,date,dday)\n",
    "    os.rename(f,dst+newname+'.tif')"
   ]
  }
 ],
 "metadata": {
  "kernelspec": {
   "display_name": "Python 3",
   "language": "python",
   "name": "python3"
  },
  "language_info": {
   "codemirror_mode": {
    "name": "ipython",
    "version": 3
   },
   "file_extension": ".py",
   "mimetype": "text/x-python",
   "name": "python",
   "nbconvert_exporter": "python",
   "pygments_lexer": "ipython3",
   "version": "3.7.4"
  }
 },
 "nbformat": 4,
 "nbformat_minor": 5
}
